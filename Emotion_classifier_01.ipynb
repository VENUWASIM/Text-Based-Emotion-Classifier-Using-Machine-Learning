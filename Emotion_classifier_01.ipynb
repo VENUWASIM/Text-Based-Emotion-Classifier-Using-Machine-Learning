{
 "cells": [
  {
   "cell_type": "code",
   "execution_count": 6,
   "metadata": {
    "colab": {
     "base_uri": "https://localhost:8080/"
    },
    "id": "3EQZ30TMf9cd",
    "outputId": "2deb929d-0200-4124-afa9-b910492d0b23"
   },
   "outputs": [
    {
     "name": "stdout",
     "output_type": "stream",
     "text": [
      "Train Dataset:\n",
      "['i didnt feel humiliated;sadness\\n', 'i can go from feeling so hopeless to so damned hopeful just from being around someone who cares and is awake;sadness\\n', 'im grabbing a minute to post i feel greedy wrong;anger\\n', 'i am ever feeling nostalgic about the fireplace i will know that it is still on the property;love\\n', 'i am feeling grouchy;anger\\n']\n",
      "\n",
      "Validation Dataset:\n",
      "['im feeling quite sad and sorry for myself but ill snap out of it soon;sadness\\n', 'i feel like i am still looking at a blank canvas blank pieces of paper;sadness\\n', 'i feel like a faithful servant;love\\n', 'i am just feeling cranky and blue;anger\\n', 'i can have for a treat or if i am feeling festive;joy\\n']\n",
      "\n",
      "Test Dataset:\n",
      "['im feeling rather rotten so im not very ambitious right now;sadness\\n', 'im updating my blog because i feel shitty;sadness\\n', 'i never make her separate from me because i don t ever want her to feel like i m ashamed with her;sadness\\n', 'i left with my bouquet of red and yellow tulips under my arm feeling slightly more optimistic than when i arrived;joy\\n', 'i was feeling a little vain when i did this one;sadness\\n']\n"
     ]
    }
   ],
   "source": [
    "# Load the train dataset\n",
    "with open('train.txt', 'r') as file:\n",
    "    train_data = file.readlines()\n",
    "\n",
    "# Load the validation dataset\n",
    "with open('val.txt', 'r') as file:\n",
    "    valid_data = file.readlines()\n",
    "\n",
    "# Load the test dataset\n",
    "with open('test.txt', 'r') as file:\n",
    "    test_data = file.readlines()\n",
    "\n",
    "# Display the first few lines of each dataset\n",
    "print(\"Train Dataset:\")\n",
    "print(train_data[:5])  # Display the first 5 lines\n",
    "\n",
    "print(\"\\nValidation Dataset:\")\n",
    "print(valid_data[:5])\n",
    "\n",
    "print(\"\\nTest Dataset:\")\n",
    "print(test_data[:5])\n"
   ]
  },
  {
   "cell_type": "code",
   "execution_count": null,
   "metadata": {
    "colab": {
     "base_uri": "https://localhost:8080/"
    },
    "id": "Rl_n7N1-mOCx",
    "outputId": "fa3cf7be-1e35-46f7-d05c-a1063ea6b315"
   },
   "outputs": [],
   "source": [
    "\n"
   ]
  },
  {
   "cell_type": "code",
   "execution_count": 7,
   "metadata": {
    "colab": {
     "base_uri": "https://localhost:8080/"
    },
    "id": "BWh6QxdCnB52",
    "outputId": "332e24a1-f680-446c-c7bd-b10eaa1a3242"
   },
   "outputs": [
    {
     "name": "stdout",
     "output_type": "stream",
     "text": [
      "Validation Accuracy: 82.75%\n",
      "Test Accuracy: 83.10%\n"
     ]
    }
   ],
   "source": [
    "import numpy as np\n",
    "from sklearn.model_selection import train_test_split\n",
    "from sklearn.feature_extraction.text import TfidfVectorizer\n",
    "from sklearn.feature_selection import SelectKBest, chi2\n",
    "from sklearn.naive_bayes import MultinomialNB\n",
    "from sklearn.metrics import accuracy_score\n",
    "\n",
    "# Load your data and labels\n",
    "def load_data_and_labels(filename):\n",
    "    data = []\n",
    "    labels = []\n",
    "    with open(filename, 'r') as file:\n",
    "        for line in file:\n",
    "            parts = line.strip().split(';')\n",
    "            data.append(parts[0])\n",
    "            labels.append(parts[1])\n",
    "    return data, labels\n",
    "\n",
    "train_data, train_labels = load_data_and_labels('train.txt')\n",
    "valid_data, valid_labels = load_data_and_labels('val.txt')\n",
    "test_data, test_labels = load_data_and_labels('test.txt')\n",
    "\n",
    "# Preprocess your data (You can use the same preprocessing function)\n",
    "def preprocess_data(data):\n",
    "    preprocessed_data = []\n",
    "    for text in data:\n",
    "        # Your preprocessing steps here\n",
    "        preprocessed_data.append(preprocess_text(text))\n",
    "    return preprocessed_data\n",
    "\n",
    "# Define your preprocessing function as you mentioned earlier\n",
    "def preprocess_text(text):\n",
    "    # Your preprocessing steps here\n",
    "    return text\n",
    "\n",
    "# Preprocess your data\n",
    "train_data = preprocess_data(train_data)\n",
    "valid_data = preprocess_data(valid_data)\n",
    "test_data = preprocess_data(test_data)\n",
    "\n",
    "# Apply TF-IDF feature extraction\n",
    "tfidf_vectorizer = TfidfVectorizer()\n",
    "X_train_tfidf = tfidf_vectorizer.fit_transform(train_data)\n",
    "X_valid_tfidf = tfidf_vectorizer.transform(valid_data)\n",
    "X_test_tfidf = tfidf_vectorizer.transform(test_data)\n",
    "\n",
    "# Perform feature selection using chi-squared\n",
    "k = 1000  # Number of top features to select\n",
    "selector = SelectKBest(score_func=chi2, k=k)\n",
    "X_train_selected = selector.fit_transform(X_train_tfidf, train_labels)  # Use train_labels\n",
    "X_valid_selected = selector.transform(X_valid_tfidf)\n",
    "X_test_selected = selector.transform(X_test_tfidf)\n",
    "\n",
    "# Hyperparameter Tuning: Find the best alpha value for Multinomial Naive Bayes\n",
    "alphas = [0.1, 1.0, 10.0]\n",
    "best_accuracy = 0.0\n",
    "best_alpha = 0.0\n",
    "\n",
    "for alpha in alphas:\n",
    "    naive_bayes_classifier = MultinomialNB(alpha=alpha)\n",
    "    naive_bayes_classifier.fit(X_train_selected, train_labels)\n",
    "    valid_predictions = naive_bayes_classifier.predict(X_valid_selected)\n",
    "    validation_accuracy = accuracy_score(valid_labels, valid_predictions)\n",
    "    if validation_accuracy > best_accuracy:\n",
    "        best_accuracy = validation_accuracy\n",
    "        best_alpha = alpha\n",
    "\n",
    "# Train the model with the best alpha\n",
    "best_naive_bayes = MultinomialNB(alpha=best_alpha)\n",
    "best_naive_bayes.fit(X_train_selected, train_labels)\n",
    "\n",
    "# Evaluate the model on the validation set\n",
    "valid_predictions = best_naive_bayes.predict(X_valid_selected)\n",
    "validation_accuracy = accuracy_score(valid_labels, valid_predictions)\n",
    "print(\"Validation Accuracy: {:.2f}%\".format(validation_accuracy * 100))\n",
    "\n",
    "# Evaluate the model on the test set\n",
    "test_predictions = best_naive_bayes.predict(X_test_selected)\n",
    "test_accuracy = accuracy_score(test_labels, test_predictions)  # Use test_labels\n",
    "print(\"Test Accuracy: {:.2f}%\".format(test_accuracy * 100))\n"
   ]
  },
  {
   "cell_type": "code",
   "execution_count": null,
   "metadata": {
    "colab": {
     "base_uri": "https://localhost:8080/"
    },
    "id": "dLP91B0SnLvb",
    "outputId": "f6ef8183-8d5c-4791-ffad-e13b0f6a9577"
   },
   "outputs": [],
   "source": [
    "from sklearn.svm import SVC\n",
    "C_values = [0.1, 1.0, 10.0]\n",
    "best_svm_accuracy = 0.0\n",
    "best_C = 0.0\n",
    "\n",
    "for C_value in C_values:\n",
    "    svm_classifier = SVC(C=C_value)\n",
    "    svm_classifier.fit(X_train_selected, train_labels)\n",
    "    valid_predictions = svm_classifier.predict(X_valid_selected)\n",
    "    validation_accuracy = accuracy_score(valid_labels, valid_predictions)\n",
    "    if validation_accuracy > best_svm_accuracy:\n",
    "        best_svm_accuracy = validation_accuracy\n",
    "        best_C = C_value\n",
    "\n",
    "# Train the SVM model with the best C value\n",
    "best_svm = SVC(C=best_C)\n",
    "best_svm.fit(X_train_selected, train_labels)\n",
    "\n",
    "\n",
    "\n",
    "# Evaluate the best SVM model on the validation set\n",
    "valid_predictions = best_svm.predict(X_valid_selected)\n",
    "validation_accuracy = accuracy_score(valid_labels, valid_predictions)\n",
    "print(\"Validation Accuracy (SVM): {:.2f}%\".format(validation_accuracy * 100))\n",
    "\n",
    "\n",
    "# Evaluate the best SVM model on the test set\n",
    "test_predictions = best_svm.predict(X_test_selected)\n",
    "test_accuracy_svm = accuracy_score(test_labels, test_predictions)\n",
    "print(\"Test Accuracy (SVM): {:.2f}%\".format(test_accuracy_svm * 100))"
   ]
  },
  {
   "cell_type": "code",
   "execution_count": null,
   "metadata": {
    "colab": {
     "base_uri": "https://localhost:8080/"
    },
    "id": "NqybB_1knds2",
    "outputId": "cbf10285-a494-4dd8-e8fa-4192f02de88f"
   },
   "outputs": [
    {
     "name": "stdout",
     "output_type": "stream",
     "text": [
      "Validation Accuracy (Logistic Regression): 88.20%\n",
      "Test Accuracy (Logistic Regression): 88.35%\n"
     ]
    }
   ],
   "source": [
    "# Train a Logistic Regression classifier\n",
    "from sklearn.linear_model import LogisticRegression\n",
    "\n",
    "# Train a Logistic Regression classifier\n",
    "\n",
    "\n",
    "logistic_regression_classifier = LogisticRegression()\n",
    "logistic_regression_classifier.fit(X_train_selected, train_labels)\n",
    "# Evaluate the Logistic Regression model on the validation set\n",
    "valid_predictions_lr = logistic_regression_classifier.predict(X_valid_selected)\n",
    "validation_accuracy_lr = accuracy_score(valid_labels, valid_predictions_lr)\n",
    "print(\"Validation Accuracy (Logistic Regression): {:.2f}%\".format(validation_accuracy_lr * 100))\n",
    "# Evaluate the Logistic Regression model on the test set\n",
    "test_predictions_lr = logistic_regression_classifier.predict(X_test_selected)\n",
    "test_accuracy_lr = accuracy_score(test_labels, test_predictions_lr)\n",
    "print(\"Test Accuracy (Logistic Regression): {:.2f}%\".format(test_accuracy_lr * 100))"
   ]
  },
  {
   "cell_type": "code",
   "execution_count": null,
   "metadata": {
    "colab": {
     "base_uri": "https://localhost:8080/",
     "height": 472
    },
    "id": "le_DYQprpFsC",
    "outputId": "e2d72a93-4f40-4c59-825e-6a043e72cbbc"
   },
   "outputs": [
    {
     "data": {
      "image/png": "[encoded data removed]",
      "text/plain": [
       "<Figure size 640x480 with 1 Axes>"
      ]
     },
     "metadata": {},
     "output_type": "display_data"
    }
   ],
   "source": [
    "import matplotlib.pyplot as plt\n",
    "\n",
    "# Define the models and their corresponding validation and test accuracies\n",
    "models = ['Multinomial Naive Bayes', 'SVM', 'Logistic Regression']\n",
    "validation_accuracies = [validation_accuracy * 100, best_svm_accuracy * 100, validation_accuracy_lr * 100]\n",
    "test_accuracies = [test_accuracy * 100, test_accuracy_svm * 100, test_accuracy_lr * 100]\n",
    "\n",
    "# Set the width of the bars\n",
    "bar_width = 0.35\n",
    "\n",
    "# Create an array of indices for the models\n",
    "indices = range(len(models))\n",
    "\n",
    "# Create bar charts for validation accuracies\n",
    "plt.bar(indices, validation_accuracies, bar_width, label='Validation Accuracy', color='b')\n",
    "\n",
    "# Create bar charts for test accuracies\n",
    "plt.bar([i + bar_width for i in indices], test_accuracies, bar_width, label='Test Accuracy', color='g')\n",
    "\n",
    "# Set the x-axis labels\n",
    "plt.xticks([i + bar_width / 2 for i in indices], models)\n",
    "\n",
    "# Set the legend\n",
    "plt.legend()\n",
    "\n",
    "# Set labels and title\n",
    "plt.xlabel('Models')\n",
    "plt.ylabel('Accuracy (%)')\n",
    "plt.title('Validation and Test Accuracies for Different Models')\n",
    "\n",
    "# Show the bar chart\n",
    "plt.show()\n"
   ]
  }
 ],
 "metadata": {
  "colab": {
   "provenance": []
  },
  "kernelspec": {
   "display_name": "Python 3",
   "language": "python",
   "name": "python3"
  },
  "language_info": {
   "codemirror_mode": {
    "name": "ipython",
    "version": 3
   },
   "file_extension": ".py",
   "mimetype": "text/x-python",
   "name": "python",
   "nbconvert_exporter": "python",
   "pygments_lexer": "ipython3",
   "version": "3.11.5"
  }
 },
 "nbformat": 4,
 "nbformat_minor": 4
}
